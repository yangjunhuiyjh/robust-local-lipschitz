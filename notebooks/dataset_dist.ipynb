{
 "cells": [
  {
   "cell_type": "code",
   "execution_count": 1,
   "metadata": {},
   "outputs": [],
   "source": [
    "import sys\n",
    "sys.path.append(\"../\")\n",
    "import re\n",
    "from os.path import join\n",
    "from IPython.display import display\n",
    "\n",
    "import matplotlib\n",
    "matplotlib.rcParams['pdf.fonttype'] = 42\n",
    "matplotlib.rcParams['ps.fonttype'] = 42\n",
    "matplotlib.rc('text', usetex=True)\n",
    "\n",
    "import matplotlib.pyplot as plt\n",
    "import joblib\n",
    "from joblib import Parallel, delayed\n",
    "import numpy as np\n",
    "import torch\n",
    "import torch.utils.data as data_utils\n",
    "from sklearn.neighbors import NearestNeighbors\n",
    "import joblib\n",
    "from tqdm import tqdm\n",
    "\n",
    "from lolip.models.torch_utils.archs import *\n",
    "from lolip.variables import auto_var\n",
    "from params import *\n",
    "from utils import params_to_dataframe\n",
    "\n",
    "fontsize=24"
   ]
  },
  {
   "cell_type": "code",
   "execution_count": 2,
   "metadata": {
    "scrolled": true
   },
   "outputs": [
    {
     "name": "stdout",
     "output_type": "stream",
     "text": [
      "{   'attack': {   'argument_fn': {   'multitarget': <function AttackVarClass.multitarget at 0x1475e8700>,\n",
      "                                     'pgd': <function AttackVarClass.pgd at 0x1475e8670>},\n",
      "                  'cache_dirs': {'multitarget': None, 'pgd': None},\n",
      "                  'default': None,\n",
      "                  'required_vars': {'multitarget': None, 'pgd': None},\n",
      "                  'type': 'choice'},\n",
      "    'dataset': {   'argument_fn': {   'cifar10': <function DatasetVarClass.cifar10 at 0x1475e83a0>,\n",
      "                                      'fashion_mnist': <function DatasetVarClass.fashion_mnist at 0x1475e8550>,\n",
      "                                      'mnist': <function DatasetVarClass.mnist at 0x1475e8310>,\n",
      "                                      'resImgnet112v3': <function DatasetVarClass.resImgnet112v3 at 0x1475e84c0>,\n",
      "                                      'svhn': <function DatasetVarClass.svhn at 0x1475e8430>},\n",
      "                   'cache_dirs': {   'cifar10': None,\n",
      "                                     'fashion_mnist': None,\n",
      "                                     'mnist': None,\n",
      "                                     'resImgnet112v3': None,\n",
      "                                     'svhn': None},\n",
      "                   'default': None,\n",
      "                   'required_vars': {   'cifar10': None,\n",
      "                                        'fashion_mnist': None,\n",
      "                                        'mnist': None,\n",
      "                                        'resImgnet112v3': None,\n",
      "                                        'svhn': None},\n",
      "                   'type': 'choice'},\n",
      "    'eps': {'default': None, 'dtype': <class 'float'>, 'type': 'val'},\n",
      "    'model': {   'argument_fn': {   '(?P<dataaug>[a-zA-Z0-9]+-)?(?P<loss>[a-zA-Z0-9\\\\.]+)-tor-(?P<arch>[a-zA-Z0-9_]+)(?P<hyper>-[a-zA-Z0-9\\\\.]+)?': <function ModelVarClass.torch_model at 0x146f64790>},\n",
      "                 'cache_dirs': {   '(?P<dataaug>[a-zA-Z0-9]+-)?(?P<loss>[a-zA-Z0-9\\\\.]+)-tor-(?P<arch>[a-zA-Z0-9_]+)(?P<hyper>-[a-zA-Z0-9\\\\.]+)?': None},\n",
      "                 'default': None,\n",
      "                 'required_vars': {   '(?P<dataaug>[a-zA-Z0-9]+-)?(?P<loss>[a-zA-Z0-9\\\\.]+)-tor-(?P<arch>[a-zA-Z0-9_]+)(?P<hyper>-[a-zA-Z0-9\\\\.]+)?': None},\n",
      "                 'type': 'choice'},\n",
      "    'norm': {   'argument_fn': {   '1': <function NormVarClass.l1 at 0x1475e8820>,\n",
      "                                   '2': <function NormVarClass.l2 at 0x1475e85e0>,\n",
      "                                   'inf': <function NormVarClass.inf at 0x1475e8280>},\n",
      "                'cache_dirs': {'1': None, '2': None, 'inf': None},\n",
      "                'default': None,\n",
      "                'required_vars': {'1': None, '2': None, 'inf': None},\n",
      "                'type': 'choice'},\n",
      "    'random_seed': {'default': None, 'dtype': <class 'int'>, 'type': 'val'}}\n"
     ]
    }
   ],
   "source": [
    "auto_var.summary()"
   ]
  },
  {
   "cell_type": "code",
   "execution_count": 3,
   "metadata": {},
   "outputs": [
    {
     "name": "stdout",
     "output_type": "stream",
     "text": [
      "{'norm': {'inf': 'inf', '2': 'l2', '1': 'l1'}, 'dataset': {'mnist': 'mnist', 'cifar10': 'Cifar10', 'svhn': 'SVHN', 'resImgnet112v3': 'Restricted ImageNet', 'fashion_mnist': 'fashion mnist'}, 'model': {'(?P<dataaug>[a-zA-Z0-9]+-)?(?P<loss>[a-zA-Z0-9\\\\.]+)-tor-(?P<arch>[a-zA-Z0-9_]+)(?P<hyper>-[a-zA-Z0-9\\\\.]+)?': 'torch_model'}, 'attack': {'pgd': 'pgd', 'multitarget': 'multitarget'}}\n"
     ]
    }
   ],
   "source": [
    "print(auto_var.var_shown_name)"
   ]
  },
  {
   "cell_type": "code",
   "execution_count": 4,
   "metadata": {},
   "outputs": [],
   "source": [
    "def get_nearest_oppo_dist(X, y, tstX, tsty, norm, n_jobs=10):\n",
    "    if len(X.shape) > 2:\n",
    "        X = X.reshape(len(X), -1)\n",
    "        tstX = tstX.reshape(len(tstX), -1)\n",
    "    p = norm\n",
    "\n",
    "    def helper(yi):\n",
    "        return NearestNeighbors(n_neighbors=1,\n",
    "                metric='minkowski', p=p, n_jobs=12).fit(X[y != yi])\n",
    "    nns = Parallel(n_jobs=n_jobs)(delayed(helper)(yi) for yi in np.unique(y))\n",
    "    ret = np.zeros(len(X))\n",
    "    tst_ret = np.zeros(len(tstX))\n",
    "    for yi in np.unique(y):\n",
    "        dist, _ = nns[yi].kneighbors(X[y==yi], n_neighbors=1)\n",
    "        ret[np.where(y==yi)[0]] = dist[:, 0]\n",
    "        \n",
    "        dist, _ = nns[yi].kneighbors(tstX[tsty==yi], n_neighbors=1)\n",
    "        tst_ret[np.where(tsty==yi)[0]] = dist[:, 0]\n",
    "\n",
    "    return nns, ret, tst_ret"
   ]
  },
  {
   "cell_type": "code",
   "execution_count": null,
   "metadata": {},
   "outputs": [
    {
     "name": "stdout",
     "output_type": "stream",
     "text": [
      "Downloading data from https://storage.googleapis.com/tensorflow/tf-keras-datasets/train-labels-idx1-ubyte.gz\n",
      "32768/29515 [=================================] - 0s 0us/step\n",
      "40960/29515 [=========================================] - 0s 0us/step\n",
      "Downloading data from https://storage.googleapis.com/tensorflow/tf-keras-datasets/train-images-idx3-ubyte.gz\n",
      "26427392/26421880 [==============================] - 3s 0us/step\n",
      "26435584/26421880 [==============================] - 3s 0us/step\n",
      "Downloading data from https://storage.googleapis.com/tensorflow/tf-keras-datasets/t10k-labels-idx1-ubyte.gz\n",
      "16384/5148 [===============================================================================================] - 0s 0us/step\n",
      "Downloading data from https://storage.googleapis.com/tensorflow/tf-keras-datasets/t10k-images-idx3-ubyte.gz\n",
      "4423680/4422102 [==============================] - 1s 0us/step\n",
      "4431872/4422102 [==============================] - 1s 0us/step\n"
     ]
    }
   ],
   "source": [
    "auto_var.set_variable_value(\"random_seed\", 0)\n",
    "trnX, trny, tstX, tsty = auto_var.get_var_with_argument(\"dataset\", \"fashion_mnist\")\n",
    "nns_linf, fashion_mnist_dists_linf, tst_fashion_mnist_dists_linf = get_nearest_oppo_dist(trnX, trny, tstX, tsty, np.inf, n_jobs=1)\n",
    "#data = {\n",
    "#    \"nns_linf\": nns_linf,\n",
    "#    \"dists_linf\": mnist_dists_linf,\n",
    "#    \"tst_dists_linf\": tst_mnist_dists_linf,\n",
    "#}\n",
    "#joblib.dump(data, \"./dist_data/mnist_data.pkl\")"
   ]
  },
  {
   "cell_type": "code",
   "execution_count": null,
   "metadata": {},
   "outputs": [],
   "source": [
    "print(fashion_mnist_dists_linf.min(), fashion_mnist_dists_linf.mean())\n",
    "print(tst_fashion_mnist_dists_linf.min(), tst_fashion_mnist_dists_linf.mean())"
   ]
  },
  {
   "cell_type": "code",
   "execution_count": null,
   "metadata": {},
   "outputs": [],
   "source": [
    "plt.figure(figsize=(6.5, 4))\n",
    "plt.title(\"Fashion MNIST Train-Train ($\\ell_\\infty$)\", fontsize=fontsize)\n",
    "plt.ylabel(\"Percentage of data\", fontsize=fontsize)\n",
    "plt.xlabel(\"Distance ($\\ell_\\infty$)\", fontsize=fontsize)\n",
    "plt.xticks(fontsize=fontsize)\n",
    "plt.yticks(fontsize=fontsize)\n",
    "\n",
    "data = fashion_mnist_dists_linf\n",
    "plt.hist(data, range=(0, 1), bins=20, weights=np.ones(len(data)) / len(data))\n",
    "plt.axvline(data.min(), color='k', linestyle='dashed', linewidth=1)\n",
    "plt.text(data.min()-0.27, 0.85, 'min: {:.2f}'.format(data.min()), fontsize=fontsize)\n",
    "r = 0.1\n",
    "plt.axvline(2*r, color='r', linestyle='dashed', linewidth=1)\n",
    "plt.text(2*r-0.2, 0.85, '2$\\epsilon$={:.1f}'.format(2*r), fontsize=fontsize, color='r')\n",
    "plt.ylim(0, 1)\n",
    "\n",
    "plt.tight_layout()\n",
    "plt.savefig(\"./figs/dataset_dist/mnist_linf_hist.png\", format=\"png\")\n",
    "plt.savefig(\"./figs/dataset_dist/mnist_linf_hist.pdf\", format=\"pdf\")"
   ]
  },
  {
   "cell_type": "code",
   "execution_count": 11,
   "metadata": {},
   "outputs": [],
   "source": [
    "auto_var.set_variable_value(\"random_seed\", 0)\n",
    "trnX, trny, tstX, tsty = auto_var.get_var_with_argument(\"dataset\", \"mnist\")\n",
    "nns_linf, mnist_dists_linf, tst_mnist_dists_linf = get_nearest_oppo_dist(trnX, trny, tstX, tsty, np.inf, n_jobs=1)\n",
    "#data = {\n",
    "#    \"nns_linf\": nns_linf,\n",
    "#    \"dists_linf\": mnist_dists_linf,\n",
    "#    \"tst_dists_linf\": tst_mnist_dists_linf,\n",
    "#}\n",
    "#joblib.dump(data, \"./dist_data/mnist_data.pkl\")"
   ]
  },
  {
   "cell_type": "code",
   "execution_count": 12,
   "metadata": {},
   "outputs": [
    {
     "name": "stdout",
     "output_type": "stream",
     "text": [
      "0.7372549176216125 0.9895588241517543\n",
      "0.8117647171020508 0.9896345104217529\n"
     ]
    }
   ],
   "source": [
    "print(mnist_dists_linf.min(), mnist_dists_linf.mean())\n",
    "print(tst_mnist_dists_linf.min(), tst_mnist_dists_linf.mean())"
   ]
  },
  {
   "cell_type": "code",
   "execution_count": 13,
   "metadata": {},
   "outputs": [
    {
     "ename": "FileNotFoundError",
     "evalue": "[Errno 2] No such file or directory: './figs/dataset_dist/mnist_linf_hist.png'",
     "output_type": "error",
     "traceback": [
      "\u001b[0;31m---------------------------------------------------------------------------\u001b[0m",
      "\u001b[0;31mFileNotFoundError\u001b[0m                         Traceback (most recent call last)",
      "\u001b[0;32m/var/folders/db/ms8wm7tx77365x18c6g_sx_c0000gn/T/ipykernel_66278/2320377880.py\u001b[0m in \u001b[0;36m<module>\u001b[0;34m\u001b[0m\n\u001b[1;32m     16\u001b[0m \u001b[0;34m\u001b[0m\u001b[0m\n\u001b[1;32m     17\u001b[0m \u001b[0mplt\u001b[0m\u001b[0;34m.\u001b[0m\u001b[0mtight_layout\u001b[0m\u001b[0;34m(\u001b[0m\u001b[0;34m)\u001b[0m\u001b[0;34m\u001b[0m\u001b[0;34m\u001b[0m\u001b[0m\n\u001b[0;32m---> 18\u001b[0;31m \u001b[0mplt\u001b[0m\u001b[0;34m.\u001b[0m\u001b[0msavefig\u001b[0m\u001b[0;34m(\u001b[0m\u001b[0;34m\"./figs/dataset_dist/mnist_linf_hist.png\"\u001b[0m\u001b[0;34m,\u001b[0m \u001b[0mformat\u001b[0m\u001b[0;34m=\u001b[0m\u001b[0;34m\"png\"\u001b[0m\u001b[0;34m)\u001b[0m\u001b[0;34m\u001b[0m\u001b[0;34m\u001b[0m\u001b[0m\n\u001b[0m\u001b[1;32m     19\u001b[0m \u001b[0mplt\u001b[0m\u001b[0;34m.\u001b[0m\u001b[0msavefig\u001b[0m\u001b[0;34m(\u001b[0m\u001b[0;34m\"./figs/dataset_dist/mnist_linf_hist.pdf\"\u001b[0m\u001b[0;34m,\u001b[0m \u001b[0mformat\u001b[0m\u001b[0;34m=\u001b[0m\u001b[0;34m\"pdf\"\u001b[0m\u001b[0;34m)\u001b[0m\u001b[0;34m\u001b[0m\u001b[0;34m\u001b[0m\u001b[0m\n",
      "\u001b[0;32m/usr/local/lib/python3.9/site-packages/matplotlib/pyplot.py\u001b[0m in \u001b[0;36msavefig\u001b[0;34m(*args, **kwargs)\u001b[0m\n\u001b[1;32m    857\u001b[0m \u001b[0;32mdef\u001b[0m \u001b[0msavefig\u001b[0m\u001b[0;34m(\u001b[0m\u001b[0;34m*\u001b[0m\u001b[0margs\u001b[0m\u001b[0;34m,\u001b[0m \u001b[0;34m**\u001b[0m\u001b[0mkwargs\u001b[0m\u001b[0;34m)\u001b[0m\u001b[0;34m:\u001b[0m\u001b[0;34m\u001b[0m\u001b[0;34m\u001b[0m\u001b[0m\n\u001b[1;32m    858\u001b[0m     \u001b[0mfig\u001b[0m \u001b[0;34m=\u001b[0m \u001b[0mgcf\u001b[0m\u001b[0;34m(\u001b[0m\u001b[0;34m)\u001b[0m\u001b[0;34m\u001b[0m\u001b[0;34m\u001b[0m\u001b[0m\n\u001b[0;32m--> 859\u001b[0;31m     \u001b[0mres\u001b[0m \u001b[0;34m=\u001b[0m \u001b[0mfig\u001b[0m\u001b[0;34m.\u001b[0m\u001b[0msavefig\u001b[0m\u001b[0;34m(\u001b[0m\u001b[0;34m*\u001b[0m\u001b[0margs\u001b[0m\u001b[0;34m,\u001b[0m \u001b[0;34m**\u001b[0m\u001b[0mkwargs\u001b[0m\u001b[0;34m)\u001b[0m\u001b[0;34m\u001b[0m\u001b[0;34m\u001b[0m\u001b[0m\n\u001b[0m\u001b[1;32m    860\u001b[0m     \u001b[0mfig\u001b[0m\u001b[0;34m.\u001b[0m\u001b[0mcanvas\u001b[0m\u001b[0;34m.\u001b[0m\u001b[0mdraw_idle\u001b[0m\u001b[0;34m(\u001b[0m\u001b[0;34m)\u001b[0m   \u001b[0;31m# need this if 'transparent=True' to reset colors\u001b[0m\u001b[0;34m\u001b[0m\u001b[0;34m\u001b[0m\u001b[0m\n\u001b[1;32m    861\u001b[0m     \u001b[0;32mreturn\u001b[0m \u001b[0mres\u001b[0m\u001b[0;34m\u001b[0m\u001b[0;34m\u001b[0m\u001b[0m\n",
      "\u001b[0;32m/usr/local/lib/python3.9/site-packages/matplotlib/figure.py\u001b[0m in \u001b[0;36msavefig\u001b[0;34m(self, fname, transparent, **kwargs)\u001b[0m\n\u001b[1;32m   2309\u001b[0m                 \u001b[0mpatch\u001b[0m\u001b[0;34m.\u001b[0m\u001b[0mset_edgecolor\u001b[0m\u001b[0;34m(\u001b[0m\u001b[0;34m'none'\u001b[0m\u001b[0;34m)\u001b[0m\u001b[0;34m\u001b[0m\u001b[0;34m\u001b[0m\u001b[0m\n\u001b[1;32m   2310\u001b[0m \u001b[0;34m\u001b[0m\u001b[0m\n\u001b[0;32m-> 2311\u001b[0;31m         \u001b[0mself\u001b[0m\u001b[0;34m.\u001b[0m\u001b[0mcanvas\u001b[0m\u001b[0;34m.\u001b[0m\u001b[0mprint_figure\u001b[0m\u001b[0;34m(\u001b[0m\u001b[0mfname\u001b[0m\u001b[0;34m,\u001b[0m \u001b[0;34m**\u001b[0m\u001b[0mkwargs\u001b[0m\u001b[0;34m)\u001b[0m\u001b[0;34m\u001b[0m\u001b[0;34m\u001b[0m\u001b[0m\n\u001b[0m\u001b[1;32m   2312\u001b[0m \u001b[0;34m\u001b[0m\u001b[0m\n\u001b[1;32m   2313\u001b[0m         \u001b[0;32mif\u001b[0m \u001b[0mtransparent\u001b[0m\u001b[0;34m:\u001b[0m\u001b[0;34m\u001b[0m\u001b[0;34m\u001b[0m\u001b[0m\n",
      "\u001b[0;32m/usr/local/lib/python3.9/site-packages/matplotlib/backend_bases.py\u001b[0m in \u001b[0;36mprint_figure\u001b[0;34m(self, filename, dpi, facecolor, edgecolor, orientation, format, bbox_inches, pad_inches, bbox_extra_artists, backend, **kwargs)\u001b[0m\n\u001b[1;32m   2208\u001b[0m \u001b[0;34m\u001b[0m\u001b[0m\n\u001b[1;32m   2209\u001b[0m             \u001b[0;32mtry\u001b[0m\u001b[0;34m:\u001b[0m\u001b[0;34m\u001b[0m\u001b[0;34m\u001b[0m\u001b[0m\n\u001b[0;32m-> 2210\u001b[0;31m                 result = print_method(\n\u001b[0m\u001b[1;32m   2211\u001b[0m                     \u001b[0mfilename\u001b[0m\u001b[0;34m,\u001b[0m\u001b[0;34m\u001b[0m\u001b[0;34m\u001b[0m\u001b[0m\n\u001b[1;32m   2212\u001b[0m                     \u001b[0mdpi\u001b[0m\u001b[0;34m=\u001b[0m\u001b[0mdpi\u001b[0m\u001b[0;34m,\u001b[0m\u001b[0;34m\u001b[0m\u001b[0;34m\u001b[0m\u001b[0m\n",
      "\u001b[0;32m/usr/local/lib/python3.9/site-packages/matplotlib/backend_bases.py\u001b[0m in \u001b[0;36mwrapper\u001b[0;34m(*args, **kwargs)\u001b[0m\n\u001b[1;32m   1637\u001b[0m             \u001b[0mkwargs\u001b[0m\u001b[0;34m.\u001b[0m\u001b[0mpop\u001b[0m\u001b[0;34m(\u001b[0m\u001b[0marg\u001b[0m\u001b[0;34m)\u001b[0m\u001b[0;34m\u001b[0m\u001b[0;34m\u001b[0m\u001b[0m\n\u001b[1;32m   1638\u001b[0m \u001b[0;34m\u001b[0m\u001b[0m\n\u001b[0;32m-> 1639\u001b[0;31m         \u001b[0;32mreturn\u001b[0m \u001b[0mfunc\u001b[0m\u001b[0;34m(\u001b[0m\u001b[0;34m*\u001b[0m\u001b[0margs\u001b[0m\u001b[0;34m,\u001b[0m \u001b[0;34m**\u001b[0m\u001b[0mkwargs\u001b[0m\u001b[0;34m)\u001b[0m\u001b[0;34m\u001b[0m\u001b[0;34m\u001b[0m\u001b[0m\n\u001b[0m\u001b[1;32m   1640\u001b[0m \u001b[0;34m\u001b[0m\u001b[0m\n\u001b[1;32m   1641\u001b[0m     \u001b[0;32mreturn\u001b[0m \u001b[0mwrapper\u001b[0m\u001b[0;34m\u001b[0m\u001b[0;34m\u001b[0m\u001b[0m\n",
      "\u001b[0;32m/usr/local/lib/python3.9/site-packages/matplotlib/backends/backend_agg.py\u001b[0m in \u001b[0;36mprint_png\u001b[0;34m(self, filename_or_obj, metadata, pil_kwargs, *args)\u001b[0m\n\u001b[1;32m    508\u001b[0m         \"\"\"\n\u001b[1;32m    509\u001b[0m         \u001b[0mFigureCanvasAgg\u001b[0m\u001b[0;34m.\u001b[0m\u001b[0mdraw\u001b[0m\u001b[0;34m(\u001b[0m\u001b[0mself\u001b[0m\u001b[0;34m)\u001b[0m\u001b[0;34m\u001b[0m\u001b[0;34m\u001b[0m\u001b[0m\n\u001b[0;32m--> 510\u001b[0;31m         mpl.image.imsave(\n\u001b[0m\u001b[1;32m    511\u001b[0m             \u001b[0mfilename_or_obj\u001b[0m\u001b[0;34m,\u001b[0m \u001b[0mself\u001b[0m\u001b[0;34m.\u001b[0m\u001b[0mbuffer_rgba\u001b[0m\u001b[0;34m(\u001b[0m\u001b[0;34m)\u001b[0m\u001b[0;34m,\u001b[0m \u001b[0mformat\u001b[0m\u001b[0;34m=\u001b[0m\u001b[0;34m\"png\"\u001b[0m\u001b[0;34m,\u001b[0m \u001b[0morigin\u001b[0m\u001b[0;34m=\u001b[0m\u001b[0;34m\"upper\"\u001b[0m\u001b[0;34m,\u001b[0m\u001b[0;34m\u001b[0m\u001b[0;34m\u001b[0m\u001b[0m\n\u001b[1;32m    512\u001b[0m             dpi=self.figure.dpi, metadata=metadata, pil_kwargs=pil_kwargs)\n",
      "\u001b[0;32m/usr/local/lib/python3.9/site-packages/matplotlib/image.py\u001b[0m in \u001b[0;36mimsave\u001b[0;34m(fname, arr, vmin, vmax, cmap, format, origin, dpi, metadata, pil_kwargs)\u001b[0m\n\u001b[1;32m   1609\u001b[0m         \u001b[0mpil_kwargs\u001b[0m\u001b[0;34m.\u001b[0m\u001b[0msetdefault\u001b[0m\u001b[0;34m(\u001b[0m\u001b[0;34m\"format\"\u001b[0m\u001b[0;34m,\u001b[0m \u001b[0mformat\u001b[0m\u001b[0;34m)\u001b[0m\u001b[0;34m\u001b[0m\u001b[0;34m\u001b[0m\u001b[0m\n\u001b[1;32m   1610\u001b[0m         \u001b[0mpil_kwargs\u001b[0m\u001b[0;34m.\u001b[0m\u001b[0msetdefault\u001b[0m\u001b[0;34m(\u001b[0m\u001b[0;34m\"dpi\"\u001b[0m\u001b[0;34m,\u001b[0m \u001b[0;34m(\u001b[0m\u001b[0mdpi\u001b[0m\u001b[0;34m,\u001b[0m \u001b[0mdpi\u001b[0m\u001b[0;34m)\u001b[0m\u001b[0;34m)\u001b[0m\u001b[0;34m\u001b[0m\u001b[0;34m\u001b[0m\u001b[0m\n\u001b[0;32m-> 1611\u001b[0;31m         \u001b[0mimage\u001b[0m\u001b[0;34m.\u001b[0m\u001b[0msave\u001b[0m\u001b[0;34m(\u001b[0m\u001b[0mfname\u001b[0m\u001b[0;34m,\u001b[0m \u001b[0;34m**\u001b[0m\u001b[0mpil_kwargs\u001b[0m\u001b[0;34m)\u001b[0m\u001b[0;34m\u001b[0m\u001b[0;34m\u001b[0m\u001b[0m\n\u001b[0m\u001b[1;32m   1612\u001b[0m \u001b[0;34m\u001b[0m\u001b[0m\n\u001b[1;32m   1613\u001b[0m \u001b[0;34m\u001b[0m\u001b[0m\n",
      "\u001b[0;32m/usr/local/lib/python3.9/site-packages/PIL/Image.py\u001b[0m in \u001b[0;36msave\u001b[0;34m(self, fp, format, **params)\u001b[0m\n\u001b[1;32m   2159\u001b[0m                 \u001b[0mfp\u001b[0m \u001b[0;34m=\u001b[0m \u001b[0mbuiltins\u001b[0m\u001b[0;34m.\u001b[0m\u001b[0mopen\u001b[0m\u001b[0;34m(\u001b[0m\u001b[0mfilename\u001b[0m\u001b[0;34m,\u001b[0m \u001b[0;34m\"r+b\"\u001b[0m\u001b[0;34m)\u001b[0m\u001b[0;34m\u001b[0m\u001b[0;34m\u001b[0m\u001b[0m\n\u001b[1;32m   2160\u001b[0m             \u001b[0;32melse\u001b[0m\u001b[0;34m:\u001b[0m\u001b[0;34m\u001b[0m\u001b[0;34m\u001b[0m\u001b[0m\n\u001b[0;32m-> 2161\u001b[0;31m                 \u001b[0mfp\u001b[0m \u001b[0;34m=\u001b[0m \u001b[0mbuiltins\u001b[0m\u001b[0;34m.\u001b[0m\u001b[0mopen\u001b[0m\u001b[0;34m(\u001b[0m\u001b[0mfilename\u001b[0m\u001b[0;34m,\u001b[0m \u001b[0;34m\"w+b\"\u001b[0m\u001b[0;34m)\u001b[0m\u001b[0;34m\u001b[0m\u001b[0;34m\u001b[0m\u001b[0m\n\u001b[0m\u001b[1;32m   2162\u001b[0m \u001b[0;34m\u001b[0m\u001b[0m\n\u001b[1;32m   2163\u001b[0m         \u001b[0;32mtry\u001b[0m\u001b[0;34m:\u001b[0m\u001b[0;34m\u001b[0m\u001b[0;34m\u001b[0m\u001b[0m\n",
      "\u001b[0;31mFileNotFoundError\u001b[0m: [Errno 2] No such file or directory: './figs/dataset_dist/mnist_linf_hist.png'"
     ]
    },
    {
     "data": {
      "image/png": "[encoded data removed]",
      "text/plain": [
       "<Figure size 468x288 with 1 Axes>"
      ]
     },
     "metadata": {
      "needs_background": "light"
     },
     "output_type": "display_data"
    }
   ],
   "source": [
    "plt.figure(figsize=(6.5, 4))\n",
    "plt.title(\"MNIST Train-Train ($\\ell_\\infty$)\", fontsize=fontsize)\n",
    "plt.ylabel(\"Percentage of data\", fontsize=fontsize)\n",
    "plt.xlabel(\"Distance ($\\ell_\\infty$)\", fontsize=fontsize)\n",
    "plt.xticks(fontsize=fontsize)\n",
    "plt.yticks(fontsize=fontsize)\n",
    "\n",
    "data = mnist_dists_linf\n",
    "plt.hist(data, range=(0, 1), bins=20, weights=np.ones(len(data)) / len(data))\n",
    "plt.axvline(data.min(), color='k', linestyle='dashed', linewidth=1)\n",
    "plt.text(data.min()-0.27, 0.85, 'min: {:.2f}'.format(data.min()), fontsize=fontsize)\n",
    "r = 0.1\n",
    "plt.axvline(2*r, color='r', linestyle='dashed', linewidth=1)\n",
    "plt.text(2*r-0.2, 0.85, '2$\\epsilon$={:.1f}'.format(2*r), fontsize=fontsize, color='r')\n",
    "plt.ylim(0, 1)\n",
    "\n",
    "plt.tight_layout()\n",
    "plt.savefig(\"./figs/dataset_dist/mnist_linf_hist.png\", format=\"png\")\n",
    "plt.savefig(\"./figs/dataset_dist/mnist_linf_hist.pdf\", format=\"pdf\")"
   ]
  },
  {
   "cell_type": "code",
   "execution_count": 14,
   "metadata": {},
   "outputs": [
    {
     "ename": "FileNotFoundError",
     "evalue": "[Errno 2] No such file or directory: './figs/dataset_dist/mnist_test_linf_hist.png'",
     "output_type": "error",
     "traceback": [
      "\u001b[0;31m---------------------------------------------------------------------------\u001b[0m",
      "\u001b[0;31mFileNotFoundError\u001b[0m                         Traceback (most recent call last)",
      "\u001b[0;32m/var/folders/db/ms8wm7tx77365x18c6g_sx_c0000gn/T/ipykernel_66278/637024738.py\u001b[0m in \u001b[0;36m<module>\u001b[0;34m\u001b[0m\n\u001b[1;32m     16\u001b[0m \u001b[0;34m\u001b[0m\u001b[0m\n\u001b[1;32m     17\u001b[0m \u001b[0mplt\u001b[0m\u001b[0;34m.\u001b[0m\u001b[0mtight_layout\u001b[0m\u001b[0;34m(\u001b[0m\u001b[0;34m)\u001b[0m\u001b[0;34m\u001b[0m\u001b[0;34m\u001b[0m\u001b[0m\n\u001b[0;32m---> 18\u001b[0;31m \u001b[0mplt\u001b[0m\u001b[0;34m.\u001b[0m\u001b[0msavefig\u001b[0m\u001b[0;34m(\u001b[0m\u001b[0;34m\"./figs/dataset_dist/mnist_test_linf_hist.png\"\u001b[0m\u001b[0;34m,\u001b[0m \u001b[0mformat\u001b[0m\u001b[0;34m=\u001b[0m\u001b[0;34m\"png\"\u001b[0m\u001b[0;34m)\u001b[0m\u001b[0;34m\u001b[0m\u001b[0;34m\u001b[0m\u001b[0m\n\u001b[0m\u001b[1;32m     19\u001b[0m \u001b[0mplt\u001b[0m\u001b[0;34m.\u001b[0m\u001b[0msavefig\u001b[0m\u001b[0;34m(\u001b[0m\u001b[0;34m\"./figs/dataset_dist/mnist_test_linf_hist.pdf\"\u001b[0m\u001b[0;34m,\u001b[0m \u001b[0mformat\u001b[0m\u001b[0;34m=\u001b[0m\u001b[0;34m\"pdf\"\u001b[0m\u001b[0;34m)\u001b[0m\u001b[0;34m\u001b[0m\u001b[0;34m\u001b[0m\u001b[0m\n",
      "\u001b[0;32m/usr/local/lib/python3.9/site-packages/matplotlib/pyplot.py\u001b[0m in \u001b[0;36msavefig\u001b[0;34m(*args, **kwargs)\u001b[0m\n\u001b[1;32m    857\u001b[0m \u001b[0;32mdef\u001b[0m \u001b[0msavefig\u001b[0m\u001b[0;34m(\u001b[0m\u001b[0;34m*\u001b[0m\u001b[0margs\u001b[0m\u001b[0;34m,\u001b[0m \u001b[0;34m**\u001b[0m\u001b[0mkwargs\u001b[0m\u001b[0;34m)\u001b[0m\u001b[0;34m:\u001b[0m\u001b[0;34m\u001b[0m\u001b[0;34m\u001b[0m\u001b[0m\n\u001b[1;32m    858\u001b[0m     \u001b[0mfig\u001b[0m \u001b[0;34m=\u001b[0m \u001b[0mgcf\u001b[0m\u001b[0;34m(\u001b[0m\u001b[0;34m)\u001b[0m\u001b[0;34m\u001b[0m\u001b[0;34m\u001b[0m\u001b[0m\n\u001b[0;32m--> 859\u001b[0;31m     \u001b[0mres\u001b[0m \u001b[0;34m=\u001b[0m \u001b[0mfig\u001b[0m\u001b[0;34m.\u001b[0m\u001b[0msavefig\u001b[0m\u001b[0;34m(\u001b[0m\u001b[0;34m*\u001b[0m\u001b[0margs\u001b[0m\u001b[0;34m,\u001b[0m \u001b[0;34m**\u001b[0m\u001b[0mkwargs\u001b[0m\u001b[0;34m)\u001b[0m\u001b[0;34m\u001b[0m\u001b[0;34m\u001b[0m\u001b[0m\n\u001b[0m\u001b[1;32m    860\u001b[0m     \u001b[0mfig\u001b[0m\u001b[0;34m.\u001b[0m\u001b[0mcanvas\u001b[0m\u001b[0;34m.\u001b[0m\u001b[0mdraw_idle\u001b[0m\u001b[0;34m(\u001b[0m\u001b[0;34m)\u001b[0m   \u001b[0;31m# need this if 'transparent=True' to reset colors\u001b[0m\u001b[0;34m\u001b[0m\u001b[0;34m\u001b[0m\u001b[0m\n\u001b[1;32m    861\u001b[0m     \u001b[0;32mreturn\u001b[0m \u001b[0mres\u001b[0m\u001b[0;34m\u001b[0m\u001b[0;34m\u001b[0m\u001b[0m\n",
      "\u001b[0;32m/usr/local/lib/python3.9/site-packages/matplotlib/figure.py\u001b[0m in \u001b[0;36msavefig\u001b[0;34m(self, fname, transparent, **kwargs)\u001b[0m\n\u001b[1;32m   2309\u001b[0m                 \u001b[0mpatch\u001b[0m\u001b[0;34m.\u001b[0m\u001b[0mset_edgecolor\u001b[0m\u001b[0;34m(\u001b[0m\u001b[0;34m'none'\u001b[0m\u001b[0;34m)\u001b[0m\u001b[0;34m\u001b[0m\u001b[0;34m\u001b[0m\u001b[0m\n\u001b[1;32m   2310\u001b[0m \u001b[0;34m\u001b[0m\u001b[0m\n\u001b[0;32m-> 2311\u001b[0;31m         \u001b[0mself\u001b[0m\u001b[0;34m.\u001b[0m\u001b[0mcanvas\u001b[0m\u001b[0;34m.\u001b[0m\u001b[0mprint_figure\u001b[0m\u001b[0;34m(\u001b[0m\u001b[0mfname\u001b[0m\u001b[0;34m,\u001b[0m \u001b[0;34m**\u001b[0m\u001b[0mkwargs\u001b[0m\u001b[0;34m)\u001b[0m\u001b[0;34m\u001b[0m\u001b[0;34m\u001b[0m\u001b[0m\n\u001b[0m\u001b[1;32m   2312\u001b[0m \u001b[0;34m\u001b[0m\u001b[0m\n\u001b[1;32m   2313\u001b[0m         \u001b[0;32mif\u001b[0m \u001b[0mtransparent\u001b[0m\u001b[0;34m:\u001b[0m\u001b[0;34m\u001b[0m\u001b[0;34m\u001b[0m\u001b[0m\n",
      "\u001b[0;32m/usr/local/lib/python3.9/site-packages/matplotlib/backend_bases.py\u001b[0m in \u001b[0;36mprint_figure\u001b[0;34m(self, filename, dpi, facecolor, edgecolor, orientation, format, bbox_inches, pad_inches, bbox_extra_artists, backend, **kwargs)\u001b[0m\n\u001b[1;32m   2208\u001b[0m \u001b[0;34m\u001b[0m\u001b[0m\n\u001b[1;32m   2209\u001b[0m             \u001b[0;32mtry\u001b[0m\u001b[0;34m:\u001b[0m\u001b[0;34m\u001b[0m\u001b[0;34m\u001b[0m\u001b[0m\n\u001b[0;32m-> 2210\u001b[0;31m                 result = print_method(\n\u001b[0m\u001b[1;32m   2211\u001b[0m                     \u001b[0mfilename\u001b[0m\u001b[0;34m,\u001b[0m\u001b[0;34m\u001b[0m\u001b[0;34m\u001b[0m\u001b[0m\n\u001b[1;32m   2212\u001b[0m                     \u001b[0mdpi\u001b[0m\u001b[0;34m=\u001b[0m\u001b[0mdpi\u001b[0m\u001b[0;34m,\u001b[0m\u001b[0;34m\u001b[0m\u001b[0;34m\u001b[0m\u001b[0m\n",
      "\u001b[0;32m/usr/local/lib/python3.9/site-packages/matplotlib/backend_bases.py\u001b[0m in \u001b[0;36mwrapper\u001b[0;34m(*args, **kwargs)\u001b[0m\n\u001b[1;32m   1637\u001b[0m             \u001b[0mkwargs\u001b[0m\u001b[0;34m.\u001b[0m\u001b[0mpop\u001b[0m\u001b[0;34m(\u001b[0m\u001b[0marg\u001b[0m\u001b[0;34m)\u001b[0m\u001b[0;34m\u001b[0m\u001b[0;34m\u001b[0m\u001b[0m\n\u001b[1;32m   1638\u001b[0m \u001b[0;34m\u001b[0m\u001b[0m\n\u001b[0;32m-> 1639\u001b[0;31m         \u001b[0;32mreturn\u001b[0m \u001b[0mfunc\u001b[0m\u001b[0;34m(\u001b[0m\u001b[0;34m*\u001b[0m\u001b[0margs\u001b[0m\u001b[0;34m,\u001b[0m \u001b[0;34m**\u001b[0m\u001b[0mkwargs\u001b[0m\u001b[0;34m)\u001b[0m\u001b[0;34m\u001b[0m\u001b[0;34m\u001b[0m\u001b[0m\n\u001b[0m\u001b[1;32m   1640\u001b[0m \u001b[0;34m\u001b[0m\u001b[0m\n\u001b[1;32m   1641\u001b[0m     \u001b[0;32mreturn\u001b[0m \u001b[0mwrapper\u001b[0m\u001b[0;34m\u001b[0m\u001b[0;34m\u001b[0m\u001b[0m\n",
      "\u001b[0;32m/usr/local/lib/python3.9/site-packages/matplotlib/backends/backend_agg.py\u001b[0m in \u001b[0;36mprint_png\u001b[0;34m(self, filename_or_obj, metadata, pil_kwargs, *args)\u001b[0m\n\u001b[1;32m    508\u001b[0m         \"\"\"\n\u001b[1;32m    509\u001b[0m         \u001b[0mFigureCanvasAgg\u001b[0m\u001b[0;34m.\u001b[0m\u001b[0mdraw\u001b[0m\u001b[0;34m(\u001b[0m\u001b[0mself\u001b[0m\u001b[0;34m)\u001b[0m\u001b[0;34m\u001b[0m\u001b[0;34m\u001b[0m\u001b[0m\n\u001b[0;32m--> 510\u001b[0;31m         mpl.image.imsave(\n\u001b[0m\u001b[1;32m    511\u001b[0m             \u001b[0mfilename_or_obj\u001b[0m\u001b[0;34m,\u001b[0m \u001b[0mself\u001b[0m\u001b[0;34m.\u001b[0m\u001b[0mbuffer_rgba\u001b[0m\u001b[0;34m(\u001b[0m\u001b[0;34m)\u001b[0m\u001b[0;34m,\u001b[0m \u001b[0mformat\u001b[0m\u001b[0;34m=\u001b[0m\u001b[0;34m\"png\"\u001b[0m\u001b[0;34m,\u001b[0m \u001b[0morigin\u001b[0m\u001b[0;34m=\u001b[0m\u001b[0;34m\"upper\"\u001b[0m\u001b[0;34m,\u001b[0m\u001b[0;34m\u001b[0m\u001b[0;34m\u001b[0m\u001b[0m\n\u001b[1;32m    512\u001b[0m             dpi=self.figure.dpi, metadata=metadata, pil_kwargs=pil_kwargs)\n",
      "\u001b[0;32m/usr/local/lib/python3.9/site-packages/matplotlib/image.py\u001b[0m in \u001b[0;36mimsave\u001b[0;34m(fname, arr, vmin, vmax, cmap, format, origin, dpi, metadata, pil_kwargs)\u001b[0m\n\u001b[1;32m   1609\u001b[0m         \u001b[0mpil_kwargs\u001b[0m\u001b[0;34m.\u001b[0m\u001b[0msetdefault\u001b[0m\u001b[0;34m(\u001b[0m\u001b[0;34m\"format\"\u001b[0m\u001b[0;34m,\u001b[0m \u001b[0mformat\u001b[0m\u001b[0;34m)\u001b[0m\u001b[0;34m\u001b[0m\u001b[0;34m\u001b[0m\u001b[0m\n\u001b[1;32m   1610\u001b[0m         \u001b[0mpil_kwargs\u001b[0m\u001b[0;34m.\u001b[0m\u001b[0msetdefault\u001b[0m\u001b[0;34m(\u001b[0m\u001b[0;34m\"dpi\"\u001b[0m\u001b[0;34m,\u001b[0m \u001b[0;34m(\u001b[0m\u001b[0mdpi\u001b[0m\u001b[0;34m,\u001b[0m \u001b[0mdpi\u001b[0m\u001b[0;34m)\u001b[0m\u001b[0;34m)\u001b[0m\u001b[0;34m\u001b[0m\u001b[0;34m\u001b[0m\u001b[0m\n\u001b[0;32m-> 1611\u001b[0;31m         \u001b[0mimage\u001b[0m\u001b[0;34m.\u001b[0m\u001b[0msave\u001b[0m\u001b[0;34m(\u001b[0m\u001b[0mfname\u001b[0m\u001b[0;34m,\u001b[0m \u001b[0;34m**\u001b[0m\u001b[0mpil_kwargs\u001b[0m\u001b[0;34m)\u001b[0m\u001b[0;34m\u001b[0m\u001b[0;34m\u001b[0m\u001b[0m\n\u001b[0m\u001b[1;32m   1612\u001b[0m \u001b[0;34m\u001b[0m\u001b[0m\n\u001b[1;32m   1613\u001b[0m \u001b[0;34m\u001b[0m\u001b[0m\n",
      "\u001b[0;32m/usr/local/lib/python3.9/site-packages/PIL/Image.py\u001b[0m in \u001b[0;36msave\u001b[0;34m(self, fp, format, **params)\u001b[0m\n\u001b[1;32m   2159\u001b[0m                 \u001b[0mfp\u001b[0m \u001b[0;34m=\u001b[0m \u001b[0mbuiltins\u001b[0m\u001b[0;34m.\u001b[0m\u001b[0mopen\u001b[0m\u001b[0;34m(\u001b[0m\u001b[0mfilename\u001b[0m\u001b[0;34m,\u001b[0m \u001b[0;34m\"r+b\"\u001b[0m\u001b[0;34m)\u001b[0m\u001b[0;34m\u001b[0m\u001b[0;34m\u001b[0m\u001b[0m\n\u001b[1;32m   2160\u001b[0m             \u001b[0;32melse\u001b[0m\u001b[0;34m:\u001b[0m\u001b[0;34m\u001b[0m\u001b[0;34m\u001b[0m\u001b[0m\n\u001b[0;32m-> 2161\u001b[0;31m                 \u001b[0mfp\u001b[0m \u001b[0;34m=\u001b[0m \u001b[0mbuiltins\u001b[0m\u001b[0;34m.\u001b[0m\u001b[0mopen\u001b[0m\u001b[0;34m(\u001b[0m\u001b[0mfilename\u001b[0m\u001b[0;34m,\u001b[0m \u001b[0;34m\"w+b\"\u001b[0m\u001b[0;34m)\u001b[0m\u001b[0;34m\u001b[0m\u001b[0;34m\u001b[0m\u001b[0m\n\u001b[0m\u001b[1;32m   2162\u001b[0m \u001b[0;34m\u001b[0m\u001b[0m\n\u001b[1;32m   2163\u001b[0m         \u001b[0;32mtry\u001b[0m\u001b[0;34m:\u001b[0m\u001b[0;34m\u001b[0m\u001b[0;34m\u001b[0m\u001b[0m\n",
      "\u001b[0;31mFileNotFoundError\u001b[0m: [Errno 2] No such file or directory: './figs/dataset_dist/mnist_test_linf_hist.png'"
     ]
    },
    {
     "data": {
      "image/png": "[encoded data removed]",
      "text/plain": [
       "<Figure size 468x288 with 1 Axes>"
      ]
     },
     "metadata": {
      "needs_background": "light"
     },
     "output_type": "display_data"
    }
   ],
   "source": [
    "plt.figure(figsize=(6.5, 4))\n",
    "plt.title(\"MNIST Test-Train ($\\ell_\\infty$)\", fontsize=fontsize)\n",
    "plt.ylabel(\"Percentage of data\", fontsize=fontsize)\n",
    "plt.xlabel(\"Distance ($\\ell_\\infty$)\", fontsize=fontsize)\n",
    "plt.xticks(fontsize=fontsize)\n",
    "plt.yticks(fontsize=fontsize)\n",
    "data = tst_mnist_dists_linf\n",
    "plt.hist(data, range=(0, 1), bins=20, weights=np.ones(len(data)) / len(data))\n",
    "plt.axvline(data.min(), color='k', linestyle='dashed', linewidth=1)\n",
    "plt.text(data.min()-0.27, 0.85, 'min: {:.2f}'.format(data.min()), fontsize=fontsize)\n",
    "r = 0.1\n",
    "plt.axvline(2*r, color='r', linestyle='dashed', linewidth=1)\n",
    "plt.text(2*r-0.2, 0.85, '2$r$={:.1f}'.format(2*r), fontsize=fontsize, color='r')\n",
    "plt.ylim(0, 1)\n",
    "\n",
    "\n",
    "plt.tight_layout()\n",
    "plt.savefig(\"./figs/dataset_dist/mnist_test_linf_hist.png\", format=\"png\")\n",
    "plt.savefig(\"./figs/dataset_dist/mnist_test_linf_hist.pdf\", format=\"pdf\")"
   ]
  },
  {
   "cell_type": "code",
   "execution_count": null,
   "metadata": {},
   "outputs": [],
   "source": []
  },
  {
   "cell_type": "code",
   "execution_count": null,
   "metadata": {},
   "outputs": [],
   "source": [
    "auto_var.set_variable_value(\"random_seed\", 0)\n",
    "trnX, trny, tstX, tsty = auto_var.get_var_with_argument(\"dataset\", \"cifar10\")\n",
    "nns_linf, cifar10_dists_linf, tst_cifar10_dists_linf = get_nearest_oppo_dist(trnX, trny, tstX, tsty, np.inf, n_jobs=1)\n",
    "#data = {\n",
    "#    \"nns_linf\": nns_linf,\n",
    "#    \"dists_linf\": cifar10_dists_linf,\n",
    "#    \"tst_dists_linf\": tst_cifar10_dists_linf,\n",
    "#}\n",
    "#joblib.dump(data, \"./dist_data/cifar10_data.pkl\")"
   ]
  },
  {
   "cell_type": "code",
   "execution_count": null,
   "metadata": {},
   "outputs": [],
   "source": [
    "print(cifar10_dists_linf.min(), cifar10_dists_linf.mean())\n",
    "print(tst_cifar10_dists_linf.min(), tst_cifar10_dists_linf.mean())"
   ]
  },
  {
   "cell_type": "code",
   "execution_count": null,
   "metadata": {},
   "outputs": [],
   "source": [
    "plt.figure(figsize=(6.5, 4))\n",
    "plt.title(\"CIFAR-10 Train-Train ($\\ell_\\infty$)\", fontsize=fontsize)\n",
    "plt.ylabel(\"Percentage of data\", fontsize=fontsize)\n",
    "plt.xlabel(\"Distance ($\\ell_\\infty$)\", fontsize=fontsize)\n",
    "plt.xticks(fontsize=fontsize)\n",
    "plt.yticks(fontsize=fontsize)\n",
    "\n",
    "data = cifar10_dists_linf\n",
    "plt.hist(data, range=(0, 1), bins=20, weights=np.ones(len(data)) / len(data))\n",
    "\n",
    "plt.axvline(data.min(), color='k', linestyle='dashed', linewidth=1)\n",
    "plt.text(data.min()+0.02, 0.85, 'min: {:.2f}'.format(data.min()), fontsize=fontsize)\n",
    "r = 0.031\n",
    "plt.axvline(2*r, color='r', linestyle='dashed', linewidth=1)\n",
    "plt.text(2*r-0.11, 0.65, '2$\\epsilon$={:.3f}'.format(2*r), fontsize=fontsize, color='r')\n",
    "plt.ylim(0, 1)\n",
    "\n",
    "\n",
    "plt.tight_layout()\n",
    "plt.savefig(\"./figs/dataset_dist/cifar10_linf_hist.png\", format=\"png\")\n",
    "plt.savefig(\"./figs/dataset_dist/cifar10_linf_hist.pdf\", format=\"pdf\")"
   ]
  },
  {
   "cell_type": "code",
   "execution_count": null,
   "metadata": {},
   "outputs": [],
   "source": [
    "plt.figure(figsize=(6.5, 4))\n",
    "plt.title(\"CIFAR-10 Test-Train ($\\ell_\\infty$)\", fontsize=fontsize)\n",
    "plt.ylabel(\"Percentage of data\", fontsize=fontsize)\n",
    "plt.xlabel(\"Distance ($\\ell_\\infty$)\", fontsize=fontsize)\n",
    "plt.xticks(fontsize=fontsize)\n",
    "plt.yticks(fontsize=fontsize)\n",
    "\n",
    "data = tst_cifar10_dists_linf\n",
    "plt.hist(data, range=(0, 1), bins=20, weights=np.ones(len(data)) / len(data))\n",
    "\n",
    "plt.axvline(data.min(), color='k', linestyle='dashed', linewidth=1)\n",
    "plt.text(data.min()+0.02, 0.85, 'min: {:.2f}'.format(data.min()), fontsize=fontsize)\n",
    "r = 0.031\n",
    "plt.axvline(2*r, color='r', linestyle='dashed', linewidth=1)\n",
    "plt.text(2*r-0.11, 0.65, '2$\\epsilon$={:.3f}'.format(2*r), fontsize=fontsize, color='r')\n",
    "plt.ylim(0, 1)\n",
    "\n",
    "plt.tight_layout()\n",
    "plt.savefig(\"./figs/dataset_dist/cifar10_test_linf_hist.png\", format=\"png\")\n",
    "plt.savefig(\"./figs/dataset_dist/cifar10_test_linf_hist.pdf\", format=\"pdf\")"
   ]
  },
  {
   "cell_type": "code",
   "execution_count": null,
   "metadata": {},
   "outputs": [],
   "source": [
    "auto_var.set_variable_value(\"random_seed\", 0)\n",
    "trnX, trny, tstX, tsty = auto_var.get_var_with_argument(\"dataset\", \"svhn\")\n",
    "#np.testing.assert_array_equal(trnX[25235], trnX[25236])\n",
    "#trnX = np.delete(trnX, 25235, axis=0) # image 25235 and 25236 are exactly the same\n",
    "#trny = np.delete(trny, 25235, axis=0)\n",
    "#trnX = np.delete(trnX, 65042, axis=0) # incorrectly labeled (image with idx 65043 and 11933 are same image but different label...)\n",
    "#trny = np.delete(trny, 65042, axis=0)\n",
    "nns_linf, svhn_dists_linf, tst_svhn_dists_linf = get_nearest_oppo_dist(trnX, trny, tstX, tsty, np.inf, n_jobs=1)"
   ]
  },
  {
   "cell_type": "code",
   "execution_count": null,
   "metadata": {},
   "outputs": [],
   "source": [
    "temp_svhn_dists_linf = svhn_dists_linf[svhn_dists_linf >= np.partition(svhn_dists_linf, 5)[:5].max()]\n",
    "print(temp_svhn_dists_linf.min(), temp_svhn_dists_linf.mean())\n",
    "print(tst_svhn_dists_linf.min(), tst_svhn_dists_linf.mean())"
   ]
  },
  {
   "cell_type": "code",
   "execution_count": null,
   "metadata": {},
   "outputs": [],
   "source": [
    "np.partition(svhn_dists_linf, 5)[:5].max()"
   ]
  },
  {
   "cell_type": "code",
   "execution_count": null,
   "metadata": {},
   "outputs": [],
   "source": [
    "plt.figure(figsize=(6.5, 4))\n",
    "plt.title(\"SVHN Train-Train ($\\ell_\\infty$)\", fontsize=fontsize)\n",
    "plt.ylabel(\"Percentage of data\", fontsize=fontsize)\n",
    "plt.xlabel(\"Distance ($\\ell_\\infty$)\", fontsize=fontsize)\n",
    "plt.xticks(fontsize=fontsize)\n",
    "plt.yticks(fontsize=fontsize)\n",
    "#plt.hist(svhn_dists_linf, range=(0, 1), weights=np.ones(len(svhn_dists_linf)) / len(svhn_dists_linf))\n",
    "#plt.hist(tst_svhn_dists_linf, range=(0, 1), weights=np.ones(len(tst_svhn_dists_linf)) / len(tst_svhn_dists_linf))\n",
    "\n",
    "data = svhn_dists_linf[svhn_dists_linf >= np.partition(svhn_dists_linf, 5)[:5].max()]\n",
    "plt.hist(data, range=(0, 1), bins=20, weights=np.ones(len(data)) / len(data))\n",
    "\n",
    "plt.axvline(data.min(), color='k', linestyle='dashed', linewidth=1)\n",
    "plt.text(data.min()+0.02, 0.85, 'min: {:.2f}'.format(data.min()), fontsize=fontsize)\n",
    "r = 0.031\n",
    "plt.axvline(2*r, color='r', linestyle='dashed', linewidth=1)\n",
    "plt.text(2*r-0.11, 0.65, '2$\\epsilon$={:.3f}'.format(2*r), fontsize=fontsize, color='r')\n",
    "plt.ylim(0, 1)\n",
    "\n",
    "plt.tight_layout()\n",
    "plt.savefig(\"./figs/dataset_dist/svhn_linf_hist.png\", format=\"png\")\n",
    "plt.savefig(\"./figs/dataset_dist/svhn_linf_hist.pdf\", format=\"pdf\")"
   ]
  },
  {
   "cell_type": "code",
   "execution_count": null,
   "metadata": {},
   "outputs": [],
   "source": [
    "plt.figure(figsize=(6.5, 4))\n",
    "plt.title(\"SVHN Test-Train ($\\ell_\\infty$)\", fontsize=fontsize)\n",
    "plt.ylabel(\"Percentage of data\", fontsize=fontsize)\n",
    "plt.xlabel(\"Distance ($\\ell_\\infty$)\", fontsize=fontsize)\n",
    "plt.xticks(fontsize=fontsize)\n",
    "plt.yticks(fontsize=fontsize)\n",
    "\n",
    "data = tst_svhn_dists_linf\n",
    "plt.hist(data, range=(0, 1), bins=20, weights=np.ones(len(data)) / len(data))\n",
    "\n",
    "plt.axvline(data.min(), color='k', linestyle='dashed', linewidth=1)\n",
    "plt.text(data.min()+0.02, 0.85, 'min: {:.2f}'.format(data.min()), fontsize=fontsize)\n",
    "r = 0.031\n",
    "plt.axvline(2*r, color='r', linestyle='dashed', linewidth=1)\n",
    "plt.text(2*r-0.11, 0.65, '2$\\epsilon$={:.3f}'.format(2*r), fontsize=fontsize, color='r')\n",
    "plt.ylim(0, 1)\n",
    "\n",
    "plt.tight_layout()\n",
    "plt.savefig(\"./figs/dataset_dist/svhn_test_linf_hist.png\", format=\"png\")\n",
    "plt.savefig(\"./figs/dataset_dist/svhn_test_linf_hist.pdf\", format=\"pdf\")"
   ]
  },
  {
   "cell_type": "code",
   "execution_count": null,
   "metadata": {},
   "outputs": [],
   "source": [
    "plt.imshow(trnX[11933])\n",
    "print(trny[11933])\n",
    "plt.savefig(\"svhn_11933.pdf\", format=\"pdf\")"
   ]
  },
  {
   "cell_type": "code",
   "execution_count": null,
   "metadata": {},
   "outputs": [],
   "source": [
    "plt.imshow(trnX[65043])\n",
    "print(trny[65043])\n",
    "plt.savefig(\"svhn_11933_close(65043).pdf\", format=\"pdf\")"
   ]
  },
  {
   "cell_type": "code",
   "execution_count": null,
   "metadata": {},
   "outputs": [],
   "source": [
    "plt.imshow(trnX[25235])\n",
    "plt.savefig(\"svhn_25235.pdf\", format=\"pdf\")"
   ]
  },
  {
   "cell_type": "code",
   "execution_count": null,
   "metadata": {},
   "outputs": [],
   "source": [
    "import torchvision.transforms as transforms\n",
    "from torchvision.datasets import ImageFolder\n",
    "import torch\n",
    "from sklearn.metrics import pairwise_distances\n",
    "import numpy as np\n",
    "import joblib\n",
    "trn_ds = ImageFolder(\"../data/RestrictedImgNet/train\",\n",
    "    transform=transforms.Compose([\n",
    "        transforms.Resize(72),\n",
    "        transforms.CenterCrop(64),\n",
    "        transforms.ToTensor(),\n",
    "    ]))\n",
    "tst_ds = ImageFolder(\"../data/RestrictedImgNet/val\",\n",
    "    transform=transforms.Compose([\n",
    "        transforms.Resize(72),\n",
    "        transforms.CenterCrop(64),\n",
    "        transforms.ToTensor(),\n",
    "    ]))"
   ]
  },
  {
   "cell_type": "code",
   "execution_count": null,
   "metadata": {},
   "outputs": [],
   "source": [
    "tst_dists = joblib.load(\"../restricted_tst_linf.pkl\")\n",
    "np_tst_dist = tst_dists"
   ]
  },
  {
   "cell_type": "code",
   "execution_count": null,
   "metadata": {},
   "outputs": [],
   "source": [
    "batch_size = 256\n",
    "tst_loader = torch.utils.data.DataLoader(tst_ds, batch_size=batch_size, shuffle=False, num_workers=16)\n",
    "\n",
    "for i, (xi, yi) in enumerate(tst_loader):\n",
    "    yi = yi.numpy()\n",
    "    end = min(len(tst_ds), (i+1)*batch_size)\n",
    "    for j in range(i*batch_size, end):\n",
    "        np_tst_dist[j, yi[j-i*batch_size]] = np.inf\n",
    "print(np_tst_dist.min(), np_tst_dist.min(1).mean())"
   ]
  },
  {
   "cell_type": "code",
   "execution_count": null,
   "metadata": {},
   "outputs": [],
   "source": [
    "plt.figure(figsize=(6.5, 4))\n",
    "plt.title(\"Restricted ImageNet Test-Train ($\\ell_\\infty$)\", fontsize=fontsize)\n",
    "plt.ylabel(\"Percentage of data\", fontsize=fontsize)\n",
    "plt.xlabel(\"Distance ($\\ell_\\infty$)\", fontsize=fontsize)\n",
    "plt.xticks(fontsize=fontsize)\n",
    "plt.yticks(fontsize=fontsize)\n",
    "#plt.hist(svhn_dists_linf, range=(0, 1), weights=np.ones(len(svhn_dists_linf)) / len(svhn_dists_linf))\n",
    "#plt.hist(tst_svhn_dists_linf, range=(0, 1), weights=np.ones(len(tst_svhn_dists_linf)) / len(tst_svhn_dists_linf))\n",
    "\n",
    "data = np_tst_dist.min(1)\n",
    "plt.hist(data, range=(0, 1), bins=20, weights=np.ones(len(data)) / len(data))\n",
    "\n",
    "plt.axvline(data.min(), color='k', linestyle='dashed', linewidth=1)\n",
    "plt.text(data.min()+0.02, 0.85, 'min: {:.2f}'.format(data.min()), fontsize=fontsize)\n",
    "r = 0.005\n",
    "plt.axvline(2*r, color='r', linestyle='dashed', linewidth=1)\n",
    "plt.text(2*r-0.06, 0.65, '2$\\epsilon$={:.2f}'.format(2*r), fontsize=fontsize, color='r')\n",
    "plt.ylim(0, 1)\n",
    "\n",
    "plt.tight_layout()\n",
    "plt.savefig(\"./figs/dataset_dist/resImgNet_test_linf_hist.pdf\", format=\"pdf\")\n",
    "plt.savefig(\"./figs/dataset_dist/resImgNet_test_linf_hist.png\", format=\"png\")"
   ]
  },
  {
   "cell_type": "code",
   "execution_count": null,
   "metadata": {},
   "outputs": [],
   "source": [
    "def plot_and_save_figure(ds, fig_ids, file_prefix=\"figs/dataset_dist/resImgNet_\"):\n",
    "    for i in fig_ids:\n",
    "        print(f\"id: {i}, label: {ds[i][1]}\")\n",
    "        plt.imshow(ds[i][0].numpy().transpose(1, 2, 0))\n",
    "        plt.savefig(file_prefix + f\"{i}.png\")"
   ]
  },
  {
   "cell_type": "code",
   "execution_count": null,
   "metadata": {},
   "outputs": [],
   "source": [
    "plot_and_save_figure(trn_ds, fig_ids=[27782, 28340, 31382, 51605, 89607, 93380], file_prefix=\"figs/dataset_dist/resImgNet_\")"
   ]
  },
  {
   "cell_type": "code",
   "execution_count": null,
   "metadata": {},
   "outputs": [],
   "source": [
    "print(trn_ds[51605][1])\n",
    "plt.imshow(trn_ds[51605][0].numpy().transpose(1, 2, 0))\n",
    "plt.savefig(\"figs/dataset_dist/resImgNet_51605.png\")"
   ]
  },
  {
   "cell_type": "code",
   "execution_count": null,
   "metadata": {},
   "outputs": [],
   "source": [
    "plt.imshow(trn_ds[28340][0].numpy().transpose(1, 2, 0))\n",
    "plt.savefig(\"figs/dataset_dist/resImgNet_51605.png\")"
   ]
  },
  {
   "cell_type": "code",
   "execution_count": null,
   "metadata": {},
   "outputs": [],
   "source": [
    "dists = joblib.load(\"./dist_data/restricted_trn_linf.pkl\")\n",
    "np_dist = dists\n",
    "batch_size = 256\n",
    "loader = torch.utils.data.DataLoader(trn_ds, batch_size=batch_size, shuffle=False, num_workers=16)\n",
    "\n",
    "for i, (xi, yi) in enumerate(loader):\n",
    "    yi = yi.numpy()\n",
    "    end = min(len(trn_ds), (i+1)*batch_size)\n",
    "    for j in range(i*batch_size, end):\n",
    "        np_dist[j, yi[j-i*batch_size]] = np.inf\n",
    "        \n",
    "np_dist = np_dist.min(1)\n",
    "np_dist_f = np_dist[np_dist >= np.partition(np_dist, 6)[6]]\n",
    "print(np_dist_f.min(), np_dist_f.mean())"
   ]
  },
  {
   "cell_type": "code",
   "execution_count": null,
   "metadata": {},
   "outputs": [],
   "source": [
    "plt.figure(figsize=(6.5, 4))\n",
    "plt.title(\"Restricted ImageNet Train-Train ($\\ell_\\infty$)\", fontsize=fontsize)\n",
    "plt.ylabel(\"Percentage of data\", fontsize=fontsize)\n",
    "plt.xlabel(\"Distance ($\\ell_\\infty$)\", fontsize=fontsize)\n",
    "plt.xticks(fontsize=fontsize)\n",
    "plt.yticks(fontsize=fontsize)\n",
    "\n",
    "data = np_dist_f\n",
    "plt.hist(data, range=(0, 1), bins=20, weights=np.ones(len(data)) / len(data))\n",
    "\n",
    "plt.axvline(data.min(), color='k', linestyle='dashed', linewidth=1)\n",
    "#plt.text(-0.0, 0.35, 'min: {:.2f}'.format(np.partition(np_dist.min(1), 6)[7]), fontsize=fontsize)\n",
    "plt.text(data.min()+0.02, 0.85, 'min: {:.2f}'.format(data.min()), fontsize=fontsize)\n",
    "r = 0.005\n",
    "plt.axvline(2*r, color='r', linestyle='dashed', linewidth=1)\n",
    "plt.text(2*r-0.06, 0.65, '2$\\epsilonr$={:.2f}'.format(2*r), fontsize=fontsize, color='r')\n",
    "plt.ylim(0, 1)\n",
    "\n",
    "plt.tight_layout()\n",
    "plt.savefig(\"./figs/dataset_dist/resImgNet_linf_hist.pdf\", format=\"pdf\")\n",
    "plt.savefig(\"./figs/dataset_dist/resImgNet_linf_hist.png\", format=\"png\")"
   ]
  },
  {
   "cell_type": "code",
   "execution_count": null,
   "metadata": {},
   "outputs": [],
   "source": [
    "joblib.dump(tst_dists.numpy(), \"./dist_data/restricted_tst_linf.pkl\")"
   ]
  },
  {
   "cell_type": "code",
   "execution_count": null,
   "metadata": {},
   "outputs": [],
   "source": [
    "n_classes = 9\n",
    "trn_dists = torch.ones((len(trn_ds), n_classes)).float()\n",
    "batch_size = 192\n",
    "trn_loader = torch.utils.data.DataLoader(trn_ds, batch_size=batch_size, shuffle=False, num_workers=12)\n",
    "tst_loader = torch.utils.data.DataLoader(trn_ds, batch_size=batch_size, shuffle=False, num_workers=12)\n",
    "\n",
    "for x, y in tqdm(trn_loader):\n",
    "    y = y.numpy()\n",
    "    x = x.flatten(1).cuda()\n",
    "    for i, (xi, yi) in enumerate(tst_loader):\n",
    "        yi = yi.numpy()\n",
    "        xi = xi.flatten(1).cuda()\n",
    "        \n",
    "        cov = torch.norm(x.repeat((len(xi), 1)) - xi.repeat_interleave(len(x), dim=0), p=np.inf, dim=1)\n",
    "        cov = cov.view(len(xi), len(x)).cpu()\n",
    "        \n",
    "        #cov = pairwise_distances(xi, x, metric='minkowski', n_jobs=16, p=np.inf)\n",
    "        for j in range(n_classes):\n",
    "            ty = (y == j)\n",
    "            if ty.sum() >= 1:\n",
    "                min_dist = cov[:, ty].min(axis=1)[0]\n",
    "                trn_dists[i*batch_size: (i+1)*batch_size, j] = np.minimum(\n",
    "                    trn_dists[i*batch_size: (i+1)*batch_size, j],\n",
    "                    min_dist\n",
    "                )"
   ]
  },
  {
   "cell_type": "code",
   "execution_count": 23,
   "metadata": {},
   "outputs": [
    {
     "ename": "ValueError",
     "evalue": "Argument \"fashion_mnist\" not matched in Variable \"dataset\".",
     "output_type": "error",
     "traceback": [
      "\u001b[0;31m---------------------------------------------------------------------------\u001b[0m",
      "\u001b[0;31mValueError\u001b[0m                                Traceback (most recent call last)",
      "\u001b[0;32m/var/folders/db/ms8wm7tx77365x18c6g_sx_c0000gn/T/ipykernel_66278/3233208344.py\u001b[0m in \u001b[0;36m<module>\u001b[0;34m\u001b[0m\n\u001b[1;32m      1\u001b[0m \u001b[0mauto_var\u001b[0m\u001b[0;34m.\u001b[0m\u001b[0mset_variable_value\u001b[0m\u001b[0;34m(\u001b[0m\u001b[0;34m\"random_seed\"\u001b[0m\u001b[0;34m,\u001b[0m \u001b[0;36m0\u001b[0m\u001b[0;34m)\u001b[0m\u001b[0;34m\u001b[0m\u001b[0;34m\u001b[0m\u001b[0m\n\u001b[0;32m----> 2\u001b[0;31m \u001b[0mtrnX\u001b[0m\u001b[0;34m,\u001b[0m \u001b[0mtrny\u001b[0m\u001b[0;34m,\u001b[0m \u001b[0mtstX\u001b[0m\u001b[0;34m,\u001b[0m \u001b[0mtsty\u001b[0m \u001b[0;34m=\u001b[0m \u001b[0mauto_var\u001b[0m\u001b[0;34m.\u001b[0m\u001b[0mget_var_with_argument\u001b[0m\u001b[0;34m(\u001b[0m\u001b[0;34m\"dataset\"\u001b[0m\u001b[0;34m,\u001b[0m \u001b[0;34m\"fashion_mnist\"\u001b[0m\u001b[0;34m)\u001b[0m\u001b[0;34m\u001b[0m\u001b[0;34m\u001b[0m\u001b[0m\n\u001b[0m\u001b[1;32m      3\u001b[0m \u001b[0mnns_linf\u001b[0m\u001b[0;34m,\u001b[0m \u001b[0mmnist_dists_linf\u001b[0m\u001b[0;34m,\u001b[0m \u001b[0mtst_mnist_dists_linf\u001b[0m \u001b[0;34m=\u001b[0m \u001b[0mget_nearest_oppo_dist\u001b[0m\u001b[0;34m(\u001b[0m\u001b[0mtrnX\u001b[0m\u001b[0;34m,\u001b[0m \u001b[0mtrny\u001b[0m\u001b[0;34m,\u001b[0m \u001b[0mtstX\u001b[0m\u001b[0;34m,\u001b[0m \u001b[0mtsty\u001b[0m\u001b[0;34m,\u001b[0m \u001b[0mnp\u001b[0m\u001b[0;34m.\u001b[0m\u001b[0minf\u001b[0m\u001b[0;34m,\u001b[0m \u001b[0mn_jobs\u001b[0m\u001b[0;34m=\u001b[0m\u001b[0;36m1\u001b[0m\u001b[0;34m)\u001b[0m\u001b[0;34m\u001b[0m\u001b[0;34m\u001b[0m\u001b[0m\n\u001b[1;32m      4\u001b[0m \u001b[0;31m#data = {\u001b[0m\u001b[0;34m\u001b[0m\u001b[0;34m\u001b[0m\u001b[0m\n\u001b[1;32m      5\u001b[0m \u001b[0;31m#    \"nns_linf\": nns_linf,\u001b[0m\u001b[0;34m\u001b[0m\u001b[0;34m\u001b[0m\u001b[0m\n",
      "\u001b[0;32m/usr/local/lib/python3.9/site-packages/autovar/auto_var.py\u001b[0m in \u001b[0;36mget_var_with_argument\u001b[0;34m(self, var_name, argument, *args, **kwargs)\u001b[0m\n\u001b[1;32m    193\u001b[0m                         \u001b[0;32mbreak\u001b[0m\u001b[0;34m\u001b[0m\u001b[0;34m\u001b[0m\u001b[0m\n\u001b[1;32m    194\u001b[0m                 \u001b[0;32mif\u001b[0m \u001b[0mm\u001b[0m \u001b[0;32mis\u001b[0m \u001b[0;32mNone\u001b[0m\u001b[0;34m:\u001b[0m\u001b[0;34m\u001b[0m\u001b[0;34m\u001b[0m\u001b[0m\n\u001b[0;32m--> 195\u001b[0;31m                     raise ValueError('Argument \"%s\" not matched in Variable '\n\u001b[0m\u001b[1;32m    196\u001b[0m                                      '\"%s\".' % (argument, var_name))\n\u001b[1;32m    197\u001b[0m \u001b[0;34m\u001b[0m\u001b[0m\n",
      "\u001b[0;31mValueError\u001b[0m: Argument \"fashion_mnist\" not matched in Variable \"dataset\"."
     ]
    }
   ],
   "source": [
    "auto_var.set_variable_value(\"random_seed\", 0)\n",
    "trnX, trny, tstX, tsty = auto_var.get_var_with_argument(\"dataset\", \"fashion_mnist\")\n",
    "nns_linf, mnist_dists_linf, tst_mnist_dists_linf = get_nearest_oppo_dist(trnX, trny, tstX, tsty, np.inf, n_jobs=1)\n",
    "#data = {\n",
    "#    \"nns_linf\": nns_linf,\n",
    "#    \"dists_linf\": mnist_dists_linf,\n",
    "#    \"tst_dists_linf\": tst_mnist_dists_linf,\n",
    "#}\n",
    "#joblib.dump(data, \"./dist_data/mnist_data.pkl\")"
   ]
  },
  {
   "cell_type": "code",
   "execution_count": 25,
   "metadata": {},
   "outputs": [
    {
     "name": "stdout",
     "output_type": "stream",
     "text": [
      "{'norm': <lolip.variables.NormVarClass object at 0x145d594f0>, 'dataset': <lolip.datasets.DatasetVarClass object at 0x145d595b0>, 'model': <lolip.models.ModelVarClass object at 0x1463c7400>, 'attack': <lolip.attacks.AttackVarClass object at 0x1463c73d0>}\n"
     ]
    }
   ],
   "source": [
    "print(auto_var.var_class)"
   ]
  },
  {
   "cell_type": "code",
   "execution_count": null,
   "metadata": {},
   "outputs": [],
   "source": []
  }
 ],
 "metadata": {
  "kernelspec": {
   "display_name": "Python 3 (ipykernel)",
   "language": "python",
   "name": "python3"
  },
  "language_info": {
   "codemirror_mode": {
    "name": "ipython",
    "version": 3
   },
   "file_extension": ".py",
   "mimetype": "text/x-python",
   "name": "python",
   "nbconvert_exporter": "python",
   "pygments_lexer": "ipython3",
   "version": "3.9.7"
  }
 },
 "nbformat": 4,
 "nbformat_minor": 4
}
